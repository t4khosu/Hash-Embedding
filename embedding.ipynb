{
 "cells": [
  {
   "cell_type": "markdown",
   "source": [
    "# Example on how Bloom / Hash Embedding works\n",
    "\n",
    "This embedding uses single features of its inputs to create an embedding.\n",
    "Each feature can be represented by an vector with M elements. The sum of all\n",
    "features generates the input vector."
   ],
   "metadata": {
    "collapsed": false,
    "pycharm": {
     "name": "#%% md\n"
    }
   }
  },
  {
   "cell_type": "code",
   "execution_count": 1,
   "outputs": [],
   "source": [
    "%matplotlib inline  \n",
    "\n",
    "import numpy as np\n",
    "import mmh3\n",
    "import random\n",
    "import matplotlib.pyplot as plt\n",
    "\n",
    "random.seed(42)\n",
    "np.random.seed(42)"
   ],
   "metadata": {
    "collapsed": false,
    "pycharm": {
     "name": "#%%\n",
     "is_executing": false
    }
   }
  },
  {
   "cell_type": "markdown",
   "source": [
    "As you can see, with need embeddings for 20 words:"
   ],
   "metadata": {
    "collapsed": false
   }
  },
  {
   "cell_type": "code",
   "execution_count": 2,
   "metadata": {
    "collapsed": true,
    "pycharm": {
     "is_executing": false
    }
   },
   "outputs": [
    {
     "data": {
      "text/plain": "20"
     },
     "metadata": {},
     "output_type": "execute_result",
     "execution_count": 2
    }
   ],
   "source": [
    "nouns = ['bunch', 'audience', 'flock', 'team', 'group', 'family', \n",
    "         'band', 'village', 'cat', 'sock', 'ship', 'hero',\n",
    "         'monkey', 'baby', 'match', 'bed', 'dog', 'bottle', 'house',\n",
    "         'paper']\n",
    "\n",
    "len(nouns)"
   ]
  },
  {
   "cell_type": "markdown",
   "source": [
    "Let's say we choose 10 feature vectors, each with 2 elements, that can represent\n",
    "a single word:"
   ],
   "metadata": {
    "collapsed": false,
    "pycharm": {
     "name": "#%% md\n"
    }
   }
  },
  {
   "cell_type": "code",
   "execution_count": 3,
   "outputs": [
    {
     "name": "stdout",
     "text": [
      "[[-0.02509198  0.09014286]\n [ 0.04639879  0.0197317 ]\n [-0.06879627 -0.0688011 ]\n [-0.08838328  0.07323523]\n [ 0.020223    0.04161452]\n [-0.0958831   0.09398197]\n [ 0.06648853 -0.05753218]\n [-0.06363501 -0.0633191 ]\n [-0.03915155  0.00495129]\n [-0.013611   -0.04175417]]\n"
     ],
     "output_type": "stream"
    }
   ],
   "source": [
    "num_features = 10\n",
    "feature_size = 2\n",
    "feature_vecs = np.random.uniform(-0.1, 0.1, (num_features, feature_size))\n",
    "\n",
    "print(feature_vecs)"
   ],
   "metadata": {
    "collapsed": false,
    "pycharm": {
     "name": "#%%\n",
     "is_executing": false
    }
   }
  },
  {
   "cell_type": "markdown",
   "source": [
    "Now we need to define a rule, that maps **one** input onto **M** of these vectors.\n",
    "Normally we would check for specific word features (POS, position in text, ...).\n",
    "In this example we use Hashes to map words onto a range from `0` to `num_features - 1`:"
   ],
   "metadata": {
    "collapsed": false,
    "pycharm": {
     "name": "#%% md\n"
    }
   }
  },
  {
   "cell_type": "code",
   "execution_count": 4,
   "outputs": [
    {
     "name": "stdout",
     "text": [
      "Inividual features for a: 7\nInividual features for b: 9\nInividual features for c: 10\n"
     ],
     "output_type": "stream"
    }
   ],
   "source": [
    "feature_keys_a = [mmh3.hash(n, 1) % num_features for n in nouns]\n",
    "feature_keys_b = [mmh3.hash(n, 2) % num_features for n in nouns]\n",
    "feature_keys_c = [mmh3.hash(n, 3) % num_features for n in nouns]\n",
    "\n",
    "print(f'Inividual features for a: {len(set(feature_keys_a))}')\n",
    "print(f'Inividual features for b: {len(set(feature_keys_b))}')\n",
    "print(f'Inividual features for c: {len(set(feature_keys_c))}')"
   ],
   "metadata": {
    "collapsed": false,
    "pycharm": {
     "name": "#%%\n",
     "is_executing": false
    }
   }
  },
  {
   "cell_type": "markdown",
   "source": [
    "As you can see, one feature alone can't differentiate between every single word.\n",
    "There are collisions! Because of this we combine our features. This way, each word is defined\n",
    "by three features:"
   ],
   "metadata": {
    "collapsed": false,
    "pycharm": {
     "name": "#%% md\n"
    }
   }
  },
  {
   "cell_type": "code",
   "execution_count": 5,
   "outputs": [
    {
     "name": "stdout",
     "text": [
      "Feature keys for first two inputs: [(3, 7, 1), (6, 0, 3)]\nIndividual combined features: 20\n"
     ],
     "output_type": "stream"
    }
   ],
   "source": [
    "feature_keys = list(zip(\n",
    "    feature_keys_a,\n",
    "    feature_keys_b,\n",
    "    feature_keys_c,\n",
    "))\n",
    "\n",
    "print(f'Feature keys for first two inputs: {feature_keys[:2]}')\n",
    "print(f'Individual combined features: {len(set(feature_keys))}')"
   ],
   "metadata": {
    "collapsed": false,
    "pycharm": {
     "name": "#%%\n",
     "is_executing": false
    }
   }
  },
  {
   "cell_type": "markdown",
   "source": [
    "Now we can see, every word is represented by an individual tuple of keys.\n",
    "In the last step we can search for the corresponding features and add them up:"
   ],
   "metadata": {
    "collapsed": false,
    "pycharm": {
     "name": "#%% md\n"
    }
   }
  },
  {
   "cell_type": "code",
   "execution_count": 6,
   "outputs": [],
   "source": [
    "embeddings = []\n",
    "for keys in feature_keys:\n",
    "    emb = sum(feature_vecs[k] for k in keys)\n",
    "    embeddings.append(emb)"
   ],
   "metadata": {
    "collapsed": false,
    "pycharm": {
     "name": "#%%\n",
     "is_executing": false
    }
   }
  },
  {
   "cell_type": "code",
   "execution_count": 7,
   "outputs": [
    {
     "name": "stdout",
     "text": [
      "bunch -> [-0.1056195   0.02964783]\naudience -> [-0.04698673  0.10584591]\nflock -> [-0.09819084 -0.0323513 ]\nteam -> [-0.15236199 -0.03649533]\ngroup -> [-0.24790139  0.1038981 ]\nfamily -> [-0.16642156 -0.12168691]\nband -> [0.01700422 0.05618149]\nvillage -> [-0.03629803 -0.11589999]\ncat -> [0.02747024 0.0662975 ]\nsock -> [-0.07366525  0.06295628]\nship -> [-0.07110402 -0.19513437]\nhero -> [-0.2053772   0.14620977]\nmonkey -> [0.02450404 0.03543475]\nbaby -> [-0.13786759  0.1869489 ]\nmatch -> [-0.09302958 -0.02686931]\nbed -> [-0.11381896  0.11696662]\ndog -> [ 0.15320006 -0.07344984]\nbottle -> [-0.19606629 -0.19543929]\nhouse -> [-0.24556283  0.07766936]\npaper -> [ 0.07310053 -0.05767183]\n"
     ],
     "output_type": "stream"
    }
   ],
   "source": [
    "for word, emb in zip(nouns, embeddings):\n",
    "    print(f'{word} -> {emb}')"
   ],
   "metadata": {
    "collapsed": false,
    "pycharm": {
     "name": "#%%\n",
     "is_executing": false
    }
   }
  },
  {
   "cell_type": "markdown",
   "source": [
    "Now each word has it's own representation, even though we only store 10 feature vectors!\n",
    "However, this example has one flaw: Adding an unknown word may be possible, but it is dependent \n",
    "on a random hash function. So even if we train a model on these words, results for new\n",
    "won't make any sense.\n",
    "\n",
    "For example: We use this method to check if a word is a noun or verb. We may be able to train a model,\n",
    "but for new words arbitrary hash values will be generated to get feature vectors. So it is not possible\n",
    "to say if an unknown word is a verb or noun.\n",
    "\n",
    "But what we can test is training a model on the known words"
   ],
   "metadata": {
    "collapsed": false,
    "pycharm": {
     "name": "#%% md\n"
    }
   }
  },
  {
   "cell_type": "code",
   "execution_count": 8,
   "outputs": [],
   "source": [
    "nb_epoch = 100\n",
    "learn_rate = 0.01\n",
    "    \n",
    "labels = np.random.uniform(-0.1, 0.1, (len(nouns), 2))\n",
    "train_data = list(zip(nouns, feature_keys, labels))\n",
    "\n",
    "losses = []\n",
    "\n",
    "for epoch in range(nb_epoch):\n",
    "    random.shuffle(train_data)\n",
    "    loss=0.0\n",
    "\n",
    "    for noun, keys, y in train_data:\n",
    "        hash_vector = sum(feature_vecs[key] for key in keys)\n",
    "\n",
    "        error = hash_vector - y\n",
    "\n",
    "        for key in keys:\n",
    "            feature_vecs[key] -= learn_rate * error\n",
    "\n",
    "        loss += (error**2).sum()\n",
    "    losses.append(loss)\n",
    "    "
   ],
   "metadata": {
    "collapsed": false,
    "pycharm": {
     "name": "#%%\n",
     "is_executing": false
    }
   }
  },
  {
   "cell_type": "code",
   "execution_count": 9,
   "outputs": [
    {
     "data": {
      "text/plain": "<Figure size 432x288 with 1 Axes>",
      "image/png": "[encoded data removed]"
     },
     "metadata": {
      "needs_background": "light"
     },
     "output_type": "display_data"
    }
   ],
   "source": [
    "plt.plot(losses)\n",
    "plt.ylabel('loss')\n",
    "plt.xlabel('epoch')\n",
    "plt.show()\n"
   ],
   "metadata": {
    "collapsed": false,
    "pycharm": {
     "name": "#%%\n",
     "is_executing": false
    }
   }
  }
 ],
 "metadata": {
  "kernelspec": {
   "name": "hash_embedding",
   "language": "python",
   "display_name": "hash_embedding"
  },
  "language_info": {
   "codemirror_mode": {
    "name": "ipython",
    "version": 2
   },
   "file_extension": ".py",
   "mimetype": "text/x-python",
   "name": "python",
   "nbconvert_exporter": "python",
   "pygments_lexer": "ipython2",
   "version": "2.7.6"
  },
  "pycharm": {
   "stem_cell": {
    "cell_type": "raw",
    "source": [],
    "metadata": {
     "collapsed": false
    }
   }
  }
 },
 "nbformat": 4,
 "nbformat_minor": 0
}