{
 "cells": [
  {
   "cell_type": "markdown",
   "source": [
    "# Example on how Hash (Bloom) Embedding works\n",
    "\n",
    "This embedding has two great benefits:\n",
    "1. You save a lot of storage space\n",
    "2. It is possible to generate embeddings for unknown words\n",
    "\n",
    "But how does it work?\n",
    "\n",
    "First you have to define a static feature set, for example:\n",
    "* Feature A: is a noun\n",
    "* Feature B: is a verb\n",
    "* Feature C: is an adjective\n",
    "* Feature D: last letters are 's' or 'es'\n",
    "* Feature E: has less than 5 letters\n",
    "\n",
    "Now you have **5** Features. Each feature is initialized with a random vector that has `M` elements.\n",
    "For each input-word you check what features are relevant.\n",
    "\n",
    "Let's have a look at the word *goes*. It is a *verb* that ends in *'es'*. Also it has less\n",
    "than 5 letters. Therefore features B, D and E are relevant. To generate an embedding for *goes*,\n",
    "you only need to sum up the relevant vectors: \n",
    "`emb_goes = B + D + E`.\n",
    "\n",
    "You may already see, it is important to have enough features to differentiate between many\n",
    "words. A more simple approach is to generate multiple hash values for each word:"
   ],
   "metadata": {
    "collapsed": false,
    "pycharm": {
     "name": "#%% md\n"
    }
   }
  },
  {
   "cell_type": "code",
   "execution_count": 10,
   "outputs": [],
   "source": [
    "%matplotlib inline  \n",
    "\n",
    "import numpy as np\n",
    "import mmh3\n",
    "import random\n",
    "import matplotlib.pyplot as plt\n",
    "\n",
    "random.seed(42)\n",
    "np.random.seed(42)"
   ],
   "metadata": {
    "collapsed": false,
    "pycharm": {
     "name": "#%%\n",
     "is_executing": false
    }
   }
  },
  {
   "cell_type": "markdown",
   "source": [
    "Let us try to generate embeddings for 20 words:"
   ],
   "metadata": {
    "collapsed": false
   }
  },
  {
   "cell_type": "code",
   "execution_count": 11,
   "metadata": {
    "collapsed": true,
    "pycharm": {
     "is_executing": false
    }
   },
   "outputs": [
    {
     "data": {
      "text/plain": "20"
     },
     "metadata": {},
     "output_type": "execute_result",
     "execution_count": 11
    }
   ],
   "source": [
    "nouns = ['bunch', 'audience', 'flock', 'team', 'group', 'family', \n",
    "         'band', 'village', 'cat', 'sock', 'ship', 'hero',\n",
    "         'monkey', 'baby', 'match', 'bed', 'dog', 'bottle', 'house',\n",
    "         'paper']\n",
    "\n",
    "len(nouns)"
   ]
  },
  {
   "cell_type": "markdown",
   "source": [
    "Let us also say we only want to consider 10 features (each with 2 elements)."
   ],
   "metadata": {
    "collapsed": false,
    "pycharm": {
     "name": "#%% md\n"
    }
   }
  },
  {
   "cell_type": "code",
   "execution_count": 12,
   "outputs": [
    {
     "name": "stdout",
     "text": [
      "[[-0.02509198  0.09014286]\n [ 0.04639879  0.0197317 ]\n [-0.06879627 -0.0688011 ]\n [-0.08838328  0.07323523]\n [ 0.020223    0.04161452]\n [-0.0958831   0.09398197]\n [ 0.06648853 -0.05753218]\n [-0.06363501 -0.0633191 ]\n [-0.03915155  0.00495129]\n [-0.013611   -0.04175417]]\n"
     ],
     "output_type": "stream"
    }
   ],
   "source": [
    "num_features = 10\n",
    "feature_size = 2\n",
    "feature_vecs = np.random.uniform(-0.1, 0.1, (num_features, feature_size))\n",
    "\n",
    "print(feature_vecs)"
   ],
   "metadata": {
    "collapsed": false,
    "pycharm": {
     "name": "#%%\n",
     "is_executing": false
    }
   }
  },
  {
   "cell_type": "markdown",
   "source": [
    "In the next step we need to define a rule on how to map a word onto multiple features.\n",
    "In this example we calculate `N` hashes for each word in a range from `0` to `num_features - 1`.\n",
    "This way, every word receives the same amount of hashes which can be mapped onto our feature vectors.\n",
    "\n",
    "In this case, we choose `N = 3`"
   ],
   "metadata": {
    "collapsed": false,
    "pycharm": {
     "name": "#%% md\n"
    }
   }
  },
  {
   "cell_type": "code",
   "execution_count": 13,
   "outputs": [
    {
     "name": "stdout",
     "text": [
      "Inividual features for a: 7\nInividual features for b: 9\nInividual features for c: 10\n"
     ],
     "output_type": "stream"
    }
   ],
   "source": [
    "feature_keys_a = [mmh3.hash(n, 1) % num_features for n in nouns]\n",
    "feature_keys_b = [mmh3.hash(n, 2) % num_features for n in nouns]\n",
    "feature_keys_c = [mmh3.hash(n, 3) % num_features for n in nouns]\n",
    "\n",
    "print(f'Individual features for a: {len(set(feature_keys_a))}')\n",
    "print(f'Individual features for b: {len(set(feature_keys_b))}')\n",
    "print(f'Individual features for c: {len(set(feature_keys_c))}')"
   ],
   "metadata": {
    "collapsed": false,
    "pycharm": {
     "name": "#%%\n",
     "is_executing": false
    }
   }
  },
  {
   "cell_type": "markdown",
   "source": [
    "As you can see, one feature alone can't differentiate between every word.\n",
    "There are collisions! So we combine our features:"
   ],
   "metadata": {
    "collapsed": false,
    "pycharm": {
     "name": "#%% md\n"
    }
   }
  },
  {
   "cell_type": "code",
   "execution_count": 14,
   "outputs": [
    {
     "name": "stdout",
     "text": [
      "Feature keys for first two inputs: [(3, 7, 1), (6, 0, 3)]\nIndividual combined features: 20\n"
     ],
     "output_type": "stream"
    }
   ],
   "source": [
    "feature_keys = list(zip(\n",
    "    feature_keys_a,\n",
    "    feature_keys_b,\n",
    "    feature_keys_c,\n",
    "))\n",
    "\n",
    "print(f'Feature keys for first two inputs: {feature_keys[:2]}')\n",
    "print(f'Individual combined features: {len(set(feature_keys))}')"
   ],
   "metadata": {
    "collapsed": false,
    "pycharm": {
     "name": "#%%\n",
     "is_executing": false
    }
   }
  },
  {
   "cell_type": "markdown",
   "source": [
    "Now every word is represented by an individual tuple of keys.\n",
    "Finally we can search for each word's features and sum them up:"
   ],
   "metadata": {
    "collapsed": false,
    "pycharm": {
     "name": "#%% md\n"
    }
   }
  },
  {
   "cell_type": "code",
   "execution_count": 15,
   "outputs": [],
   "source": [
    "embeddings = []\n",
    "\n",
    "for (key_1, key_2, key_3) in feature_keys:\n",
    "    emb = feature_vecs[key_1] + feature_vecs[key_2] + feature_vecs[key_3]\n",
    "    embeddings.append(emb)"
   ],
   "metadata": {
    "collapsed": false,
    "pycharm": {
     "name": "#%%\n",
     "is_executing": false
    }
   }
  },
  {
   "cell_type": "code",
   "execution_count": 16,
   "outputs": [
    {
     "name": "stdout",
     "text": [
      "bunch -> [-0.1056195   0.02964783]\naudience -> [-0.04698673  0.10584591]\nflock -> [-0.09819084 -0.0323513 ]\nteam -> [-0.15236199 -0.03649533]\ngroup -> [-0.24790139  0.1038981 ]\nfamily -> [-0.16642156 -0.12168691]\nband -> [0.01700422 0.05618149]\nvillage -> [-0.03629803 -0.11589999]\ncat -> [0.02747024 0.0662975 ]\nsock -> [-0.07366525  0.06295628]\nship -> [-0.07110402 -0.19513437]\nhero -> [-0.2053772   0.14620977]\nmonkey -> [0.02450404 0.03543475]\nbaby -> [-0.13786759  0.1869489 ]\nmatch -> [-0.09302958 -0.02686931]\nbed -> [-0.11381896  0.11696662]\ndog -> [ 0.15320006 -0.07344984]\nbottle -> [-0.19606629 -0.19543929]\nhouse -> [-0.24556283  0.07766936]\npaper -> [ 0.07310053 -0.05767183]\n"
     ],
     "output_type": "stream"
    }
   ],
   "source": [
    "for word, emb in zip(nouns, embeddings):\n",
    "    print(f'{word} -> {emb}')"
   ],
   "metadata": {
    "collapsed": false,
    "pycharm": {
     "name": "#%%\n",
     "is_executing": false
    }
   }
  },
  {
   "cell_type": "markdown",
   "source": [
    "Now each word has it's own representation, even though we only store 10 feature vectors.\n",
    "However, this example has one flaw: Including unknown words is not so easy, as each word depends \n",
    "on 'random' hashes. So even if we train our features, embeddings for new words won't make any sense.\n",
    "\n",
    "An example: \n",
    "\n",
    "We use this method to check if a word is a noun or verb. We may be able to train a model,\n",
    "but new words receive arbitrary hash values, that won't convey relevant information...\n",
    "\n",
    "However, training a model with known words and hash embeddings is quite easy:"
   ],
   "metadata": {
    "collapsed": false,
    "pycharm": {
     "name": "#%% md\n"
    }
   }
  },
  {
   "cell_type": "code",
   "execution_count": 18,
   "outputs": [],
   "source": [
    "nb_epoch = 100\n",
    "learn_rate = 0.01\n",
    "    \n",
    "labels = np.random.uniform(-0.1, 0.1, (len(nouns), 2))\n",
    "train_data = list(zip(nouns, feature_keys, labels))\n",
    "\n",
    "losses = []\n",
    "\n",
    "for epoch in range(nb_epoch):\n",
    "    random.shuffle(train_data)\n",
    "    loss=0.0\n",
    "\n",
    "    for noun, keys, y in train_data:\n",
    "        hash_vector = sum(feature_vecs[key] for key in keys)\n",
    "\n",
    "        error = hash_vector - y\n",
    "\n",
    "        for key in keys:\n",
    "            feature_vecs[key] -= learn_rate * error\n",
    "\n",
    "        loss += (error**2).sum()\n",
    "    losses.append(loss)\n"
   ],
   "metadata": {
    "collapsed": false,
    "pycharm": {
     "name": "#%%\n",
     "is_executing": false
    }
   }
  },
  {
   "cell_type": "markdown",
   "source": [
    "Let us check if the our feature vectors were correctly updated:"
   ],
   "metadata": {
    "collapsed": false
   }
  },
  {
   "cell_type": "code",
   "execution_count": 19,
   "outputs": [
    {
     "data": {
      "text/plain": "<Figure size 432x288 with 1 Axes>",
      "image/png": "[encoded data removed]"
     },
     "metadata": {
      "needs_background": "light"
     },
     "output_type": "display_data"
    }
   ],
   "source": [
    "plt.plot(losses)\n",
    "plt.ylabel('loss')\n",
    "plt.xlabel('epoch')\n",
    "plt.show()"
   ],
   "metadata": {
    "collapsed": false,
    "pycharm": {
     "name": "#%%\n",
     "is_executing": false
    }
   }
  },
  {
   "cell_type": "markdown",
   "source": [
    "The loss function decreases with every epoch. So our model seems to work. Feature vectors are updated\n",
    "depending on our self defined labels."
   ],
   "metadata": {
    "collapsed": false,
    "pycharm": {
     "name": "#%% md\n"
    }
   }
  }
 ],
 "metadata": {
  "kernelspec": {
   "name": "hash_embedding",
   "language": "python",
   "display_name": "hash_embedding"
  },
  "language_info": {
   "codemirror_mode": {
    "name": "ipython",
    "version": 2
   },
   "file_extension": ".py",
   "mimetype": "text/x-python",
   "name": "python",
   "nbconvert_exporter": "python",
   "pygments_lexer": "ipython2",
   "version": "2.7.6"
  },
  "pycharm": {
   "stem_cell": {
    "cell_type": "raw",
    "source": [],
    "metadata": {
     "collapsed": false
    }
   }
  }
 },
 "nbformat": 4,
 "nbformat_minor": 0
}